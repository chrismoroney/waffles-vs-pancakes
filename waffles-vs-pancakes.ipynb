{
 "cells": [
  {
   "cell_type": "markdown",
   "source": [
    "# Binary Classifier: Waffles vs Pancakes"
   ],
   "metadata": {}
  },
  {
   "cell_type": "markdown",
   "source": [
    "Run the code below to download the dataset `waffle_pancakes.zip`."
   ],
   "metadata": {}
  },
  {
   "cell_type": "code",
   "execution_count": 1,
   "source": [
    "!gdown --id 1hcBKY7QRlxPL6lepP5sdQniKQH8vdFBQ"
   ],
   "outputs": [
    {
     "output_type": "stream",
     "name": "stderr",
     "text": [
      "Downloading...\n",
      "From: https://drive.google.com/uc?id=1hcBKY7QRlxPL6lepP5sdQniKQH8vdFBQ\n",
      "To: d:\\Github\\waffles-vs-pancakes\\waffle_pancakes.zip\n",
      "\n",
      "0.00B [00:00, ?B/s]\n",
      "524kB [00:00, 1.14MB/s]\n",
      "1.05MB [00:00, 1.81MB/s]\n",
      "2.62MB [00:00, 4.45MB/s]\n",
      "3.67MB [00:00, 5.60MB/s]\n",
      "4.72MB [00:00, 6.69MB/s]\n",
      "5.77MB [00:01, 7.17MB/s]\n",
      "6.82MB [00:01, 7.90MB/s]\n",
      "7.86MB [00:01, 8.54MB/s]\n",
      "8.91MB [00:01, 8.86MB/s]\n",
      "9.96MB [00:01, 8.72MB/s]\n",
      "11.0MB [00:01, 8.91MB/s]\n",
      "12.6MB [00:01, 9.39MB/s]\n",
      "13.0MB [00:01, 6.96MB/s]\n"
     ]
    }
   ],
   "metadata": {}
  },
  {
   "cell_type": "code",
   "execution_count": 2,
   "source": [
    "import os\r\n",
    "import zipfile\r\n",
    "\r\n",
    "local_zip = './waffle_pancakes.zip'\r\n",
    "zip_ref = zipfile.ZipFile(local_zip, 'r')\r\n",
    "zip_ref.extractall()\r\n",
    "zip_ref.close()"
   ],
   "outputs": [],
   "metadata": {}
  },
  {
   "cell_type": "code",
   "execution_count": 30,
   "source": [
    "# Directories with our training images\r\n",
    "train_waf_dir = os.path.join('./waffle_pancakes/train/waffles')\r\n",
    "train_pan_dir = os.path.join('./waffle_pancakes/train/pancakes')\r\n",
    "\r\n",
    "# Directories with our test images\r\n",
    "test_waf_dir = os.path.join('./waffle_pancakes/test/waffles')\r\n",
    "test_pan_dir = os.path.join('./waffle_pancakes/test/pancakes')"
   ],
   "outputs": [],
   "metadata": {}
  },
  {
   "cell_type": "code",
   "execution_count": 31,
   "source": [
    "train_waf_names = os.listdir(train_waf_dir)\r\n",
    "print(train_waf_names[:10])\r\n",
    "train_pan_names = os.listdir(train_pan_dir)\r\n",
    "print(train_pan_names[:10])\r\n",
    "\r\n",
    "test_waf_names = os.listdir(test_waf_dir)\r\n",
    "test_pan_names = os.listdir(test_pan_dir)"
   ],
   "outputs": [
    {
     "output_type": "stream",
     "name": "stdout",
     "text": [
      "['img-waf-0', 'img-waf-1', 'img-waf-10', 'img-waf-100', 'img-waf-101', 'img-waf-102', 'img-waf-103', 'img-waf-104', 'img-waf-105', 'img-waf-106']\n",
      "['img-pan-0', 'img-pan-1', 'img-pan-10', 'img-pan-100', 'img-pan-101', 'img-pan-102', 'img-pan-103', 'img-pan-104', 'img-pan-105', 'img-pan-106']\n"
     ]
    }
   ],
   "metadata": {}
  }
 ],
 "metadata": {
  "orig_nbformat": 4,
  "language_info": {
   "name": "python",
   "version": "3.8.8",
   "mimetype": "text/x-python",
   "codemirror_mode": {
    "name": "ipython",
    "version": 3
   },
   "pygments_lexer": "ipython3",
   "nbconvert_exporter": "python",
   "file_extension": ".py"
  },
  "kernelspec": {
   "name": "python3",
   "display_name": "Python 3.8.8 64-bit ('base': conda)"
  },
  "interpreter": {
   "hash": "c72a629dba5ae9edebcad565c17c3988d814021371aabb3db62cb04d2b10dbfe"
  }
 },
 "nbformat": 4,
 "nbformat_minor": 2
}